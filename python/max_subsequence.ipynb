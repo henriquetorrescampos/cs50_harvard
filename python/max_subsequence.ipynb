{
 "cells": [
  {
   "cell_type": "code",
   "execution_count": 20,
   "metadata": {},
   "outputs": [
    {
     "data": {
      "text/plain": [
       "'F'"
      ]
     },
     "execution_count": 20,
     "metadata": {},
     "output_type": "execute_result"
    }
   ],
   "source": [
    "x = max(\"F\", \"DDDDDDDD\", \"CC\")\n",
    "x"
   ]
  },
  {
   "cell_type": "code",
   "execution_count": null,
   "metadata": {},
   "outputs": [],
   "source": [
    "def isSubsequence(self, s: str, t: str) -> bool:\n",
    "        s_index = 0\n",
    "        t_index = 0\n",
    " \n",
    "        while s_index < len(s) and t_index < len(t):\n",
    "            if s[s_index] == t[t_index]:\n",
    "                s_index += 1\n",
    "            t_index += 1\n",
    "        return s_index == len(s)"
   ]
  },
  {
   "cell_type": "code",
   "execution_count": null,
   "metadata": {},
   "outputs": [],
   "source": [
    "class TreeNode:\n",
    "    def __init__(self, val=0, left=None, right=None):\n",
    "        self.val = val\n",
    "        self.left = left\n",
    "        self.right = right\n",
    "\n",
    "result = []\n",
    "\n",
    "def inorder(root):\n",
    "    if not root:\n",
    "        return []\n",
    "\n",
    "    inorder(root.left)\n",
    "    result.append(root.val)\n",
    "    inorder(root.right)\n",
    "    return result\n",
    "\n",
    "def preorder(root):\n",
    "    if not root:\n",
    "        return []\n",
    "\n",
    "    result.append(root.val)\n",
    "    preorder(root.left)\n",
    "    preorder(root.right)\n",
    "    return result\n",
    "\n",
    "def postorder(root):\n",
    "    if not root:\n",
    "        return []\n",
    "\n",
    "    postorder(root.left)\n",
    "    postorder(root.right)\n",
    "    result.append(root.val)\n",
    "    return result"
   ]
  }
 ],
 "metadata": {
  "kernelspec": {
   "display_name": "Python 3",
   "language": "python",
   "name": "python3"
  },
  "language_info": {
   "codemirror_mode": {
    "name": "ipython",
    "version": 3
   },
   "file_extension": ".py",
   "mimetype": "text/x-python",
   "name": "python",
   "nbconvert_exporter": "python",
   "pygments_lexer": "ipython3",
   "version": "3.12.3"
  }
 },
 "nbformat": 4,
 "nbformat_minor": 2
}
